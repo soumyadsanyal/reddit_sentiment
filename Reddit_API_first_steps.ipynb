{
 "cells": [
  {
   "cell_type": "code",
   "execution_count": 1,
   "metadata": {
    "collapsed": false
   },
   "outputs": [],
   "source": [
    "import pandas as pd\n",
    "import numpy as np\n",
    "import sklearn\n",
    "import random\n",
    "import string\n",
    "import os\n",
    "import re\n",
    "import pprint\n",
    "import queue\n",
    "import requests\n",
    "import requests.auth"
   ]
  },
  {
   "cell_type": "code",
   "execution_count": 2,
   "metadata": {
    "collapsed": true
   },
   "outputs": [],
   "source": [
    "def get_reddit(query):\n",
    "    client_auth = requests.auth.HTTPBasicAuth('BGPeMGr5pYZxQA', '0tsNJmqQr7LnN_y9AEuTn0XXIDs')\n",
    "    post_data = {\"grant_type\": \"password\", \"username\": \"dataorelse\", \"password\": \"password\"}\n",
    "    headers = {\"User-Agent\": \"ChangeMeClient/0.1 by dataorelse\"}\n",
    "    response = requests.post(\"https://www.reddit.com/api/v1/access_token\", auth=client_auth, data=post_data, headers=headers)\n",
    "    auth_resp = response.json()\n",
    "    headers = {\n",
    "        \"Authorization\": \"bearer %s\" % auth_resp[\"access_token\"], \n",
    "        \"User-Agent\": \"ChangeMeClient/0.1 by YourUsername\",\n",
    "    }\n",
    "    response = requests.get(\"https://oauth.reddit.com\" + query, headers=headers)\n",
    "    r  = response.json()\n",
    "    #pprint.pprint(r)\n",
    "    return(r)"
   ]
  },
  {
   "cell_type": "code",
   "execution_count": 3,
   "metadata": {
    "collapsed": false
   },
   "outputs": [],
   "source": [
    "r = get_reddit(\"/r/politics\")"
   ]
  },
  {
   "cell_type": "code",
   "execution_count": 4,
   "metadata": {
    "collapsed": false
   },
   "outputs": [],
   "source": [
    "after = r[\"data\"][\"after\"]\n",
    "threads = [r[\"data\"][\"children\"][idx][\"data\"] for idx in range(r[\"data\"][\"children\"].__len__())]\n",
    "front_page = [{k:thread[k] for k in ['author', 'permalink', 'name', 'domain', 'url', 'id', 'num_comments', 'locked', 'likes', 'score', 'downs', 'title', 'subreddit', 'subreddit_id', \n",
    "                                 'gilded', \n",
    "                                 'ups', 'edited', 'hidden', 'saved', 'stickied', 'over_18'] }\n",
    "         for thread in threads]"
   ]
  },
  {
   "cell_type": "code",
   "execution_count": 5,
   "metadata": {
    "collapsed": false
   },
   "outputs": [],
   "source": [
    "top_thread = max([(x[\"num_comments\"], x[\"permalink\"]) for x in front_page])[1]"
   ]
  },
  {
   "cell_type": "code",
   "execution_count": 6,
   "metadata": {
    "collapsed": false
   },
   "outputs": [
    {
     "data": {
      "text/plain": [
       "'/r/politics/comments/5qazu1/the_state_departments_entire_senior_management/'"
      ]
     },
     "execution_count": 6,
     "metadata": {},
     "output_type": "execute_result"
    }
   ],
   "source": [
    "top_thread"
   ]
  },
  {
   "cell_type": "code",
   "execution_count": 7,
   "metadata": {
    "collapsed": false
   },
   "outputs": [],
   "source": [
    "s = get_reddit('/r/politics/comments/5qazu1/the_state_departments_entire_senior_management/t1_dcy3cqp')"
   ]
  },
  {
   "cell_type": "code",
   "execution_count": 8,
   "metadata": {
    "collapsed": false,
    "scrolled": true
   },
   "outputs": [
    {
     "name": "stdout",
     "output_type": "stream",
     "text": [
      "{'data': {'after': None,\n",
      "          'before': None,\n",
      "          'children': [{'data': {'approved_by': None,\n",
      "                                 'archived': False,\n",
      "                                 'author': 'The_Iceman2288',\n",
      "                                 'author_flair_css_class': None,\n",
      "                                 'author_flair_text': None,\n",
      "                                 'banned_by': None,\n",
      "                                 'clicked': False,\n",
      "                                 'contest_mode': False,\n",
      "                                 'created': 1485475763.0,\n",
      "                                 'created_utc': 1485446963.0,\n",
      "                                 'distinguished': None,\n",
      "                                 'domain': 'washingtonpost.com',\n",
      "                                 'downs': 0,\n",
      "                                 'edited': False,\n",
      "                                 'gilded': 0,\n",
      "                                 'hidden': False,\n",
      "                                 'hide_score': False,\n",
      "                                 'id': '5qazu1',\n",
      "                                 'is_self': False,\n",
      "                                 'likes': None,\n",
      "                                 'link_flair_css_class': None,\n",
      "                                 'link_flair_text': None,\n",
      "                                 'locked': False,\n",
      "                                 'media': None,\n",
      "                                 'media_embed': {},\n",
      "                                 'mod_reports': [],\n",
      "                                 'name': 't3_5qazu1',\n",
      "                                 'num_comments': 8592,\n",
      "                                 'num_reports': None,\n",
      "                                 'over_18': False,\n",
      "                                 'permalink': '/r/politics/comments/5qazu1/the_state_departments_entire_senior_management/',\n",
      "                                 'post_hint': 'link',\n",
      "                                 'preview': {'images': [{'id': 'MW1041AjcltbXDlmpQscYnCC4zysuC68RpNJfWhc26I',\n",
      "                                                         'resolutions': [{'height': 71,\n",
      "                                                                          'url': 'https://i.redditmedia.com/jviQECS8fMAhNIlWTOTMRwG4qcWc4t9vWDzMUQ2U1kQ.jpg?fit=crop&amp;crop=faces%2Centropy&amp;arh=2&amp;w=108&amp;s=404707d6031954def2e635027a37a582',\n",
      "                                                                          'width': 108},\n",
      "                                                                         {'height': 143,\n",
      "                                                                          'url': 'https://i.redditmedia.com/jviQECS8fMAhNIlWTOTMRwG4qcWc4t9vWDzMUQ2U1kQ.jpg?fit=crop&amp;crop=faces%2Centropy&amp;arh=2&amp;w=216&amp;s=e5536a51185f77a468f21c4409e69816',\n",
      "                                                                          'width': 216},\n",
      "                                                                         {'height': 213,\n",
      "                                                                          'url': 'https://i.redditmedia.com/jviQECS8fMAhNIlWTOTMRwG4qcWc4t9vWDzMUQ2U1kQ.jpg?fit=crop&amp;crop=faces%2Centropy&amp;arh=2&amp;w=320&amp;s=8dacda876849cd704fc980254d4a1340',\n",
      "                                                                          'width': 320},\n",
      "                                                                         {'height': 426,\n",
      "                                                                          'url': 'https://i.redditmedia.com/jviQECS8fMAhNIlWTOTMRwG4qcWc4t9vWDzMUQ2U1kQ.jpg?fit=crop&amp;crop=faces%2Centropy&amp;arh=2&amp;w=640&amp;s=88eaa04bcb19e49da213d6095aba89d6',\n",
      "                                                                          'width': 640},\n",
      "                                                                         {'height': 639,\n",
      "                                                                          'url': 'https://i.redditmedia.com/jviQECS8fMAhNIlWTOTMRwG4qcWc4t9vWDzMUQ2U1kQ.jpg?fit=crop&amp;crop=faces%2Centropy&amp;arh=2&amp;w=960&amp;s=c58a252083feaab4854a49f638a60781',\n",
      "                                                                          'width': 960},\n",
      "                                                                         {'height': 719,\n",
      "                                                                          'url': 'https://i.redditmedia.com/jviQECS8fMAhNIlWTOTMRwG4qcWc4t9vWDzMUQ2U1kQ.jpg?fit=crop&amp;crop=faces%2Centropy&amp;arh=2&amp;w=1080&amp;s=ff98bde784b4a63e68f32c567f0bfc58',\n",
      "                                                                          'width': 1080}],\n",
      "                                                         'source': {'height': 989,\n",
      "                                                                    'url': 'https://i.redditmedia.com/jviQECS8fMAhNIlWTOTMRwG4qcWc4t9vWDzMUQ2U1kQ.jpg?s=4ae480c978e974feabfb3cd765dfbc82',\n",
      "                                                                    'width': 1484},\n",
      "                                                         'variants': {}}]},\n",
      "                                 'quarantine': False,\n",
      "                                 'removal_reason': None,\n",
      "                                 'report_reasons': None,\n",
      "                                 'saved': False,\n",
      "                                 'score': 44080,\n",
      "                                 'secure_media': None,\n",
      "                                 'secure_media_embed': {},\n",
      "                                 'selftext': '',\n",
      "                                 'selftext_html': None,\n",
      "                                 'spoiler': False,\n",
      "                                 'stickied': False,\n",
      "                                 'subreddit': 'politics',\n",
      "                                 'subreddit_id': 't5_2cneq',\n",
      "                                 'suggested_sort': None,\n",
      "                                 'thumbnail': 'http://b.thumbs.redditmedia.com/z_VOU38lQVoidCYEOgbC2iDsl5upyt1DLjmgDVKrGeQ.jpg',\n",
      "                                 'title': 'The State Department’s entire '\n",
      "                                          'senior management team just '\n",
      "                                          'resigned',\n",
      "                                 'ups': 44080,\n",
      "                                 'upvote_ratio': 0.81,\n",
      "                                 'url': 'https://www.washingtonpost.com/news/josh-rogin/wp/2017/01/26/the-state-departments-entire-senior-management-team-just-resigned/?utm_term=.8bf6e00ecd82',\n",
      "                                 'user_reports': [],\n",
      "                                 'visited': False},\n",
      "                        'kind': 't3'}],\n",
      "          'modhash': None},\n",
      " 'kind': 'Listing'}\n"
     ]
    }
   ],
   "source": [
    "# first element of returned array is the post info\n",
    "pprint.pprint(s[0])"
   ]
  },
  {
   "cell_type": "code",
   "execution_count": 808,
   "metadata": {
    "collapsed": false
   },
   "outputs": [],
   "source": [
    "#got a thread\n",
    "#the next (and only other) element of the returned array contains the comments\n",
    "\n",
    "comment_root = s[1]\n",
    "q = queue.Queue()\n",
    "assert q.empty()\n",
    "\n",
    "data = comment_root[\"data\"] if comment_root.__class__() == {} and comment_root.keys().__contains__(\"data\") else None\n",
    "children = data[\"children\"]  if data.__class__() == {} and data.keys().__contains__(\"children\") else None\n",
    "assert children is not None and children.__class__() == []\n",
    "if children:\n",
    "    q = populate_dfs_q(q, children)\n",
    "        \n",
    "comment_data = comment[\"data\"] if comment.keys().__contains__(\"data\") else None\n",
    "comment_body = comment_data[\"body\"] if comment_data.keys().__contains__(\"body\") else None\n",
    "if comment_body is not None:\n",
    "    result.append(comment_body)"
   ]
  },
  {
   "cell_type": "code",
   "execution_count": 19,
   "metadata": {
    "collapsed": true
   },
   "outputs": [],
   "source": [
    "def populate_dfs_q(q, iterable):\n",
    "    while iterable.__length_hint__() > 0:\n",
    "        n = iterable.__next__()\n",
    "        q.put(n)\n",
    "    return q"
   ]
  },
  {
   "cell_type": "code",
   "execution_count": 809,
   "metadata": {
    "collapsed": false,
    "scrolled": true
   },
   "outputs": [
    {
     "data": {
      "text/plain": [
       "[\"\\nAs a reminder, this subreddit [is for civil discussion.](https://www.reddit.com/r/politics/wiki/rulesandregs#wiki_please_be_civil)\\n\\n* Do not call other users trolls, morons, children, or anything else clever you may think of. [Personal attacks, whether explicit or implicit, are not permitted.](https://www.reddit.com/r/politics/wiki/rulesandregs#wiki_no_personal_attacks)\\n\\n* Do not accuse other users of being shills. If you believe that a user is a shill, the proper conduct is to report the user or send us a modmail.\\n\\n* In general, don't be a jerk. Don't bait people, don't use hate speech, etc. Attack ideas, not users.\\n\\n* Do not downvote comments because you disagree with them, and be willing to upvote quality comments whether you agree with the opinions held or not.\\n\\nIncivility will result in a **permanent ban** from the subreddit. If you see uncivil comments, please report them and do not reply with incivility of your own.\\n\\n***\\n\\n\\n*I am a bot, and this action was performed automatically. Please [contact the moderators of this subreddit](/message/compose/?to=/r/politics) if you have any questions or concerns.*\",\n",
       " \"You have to wonder if the exodus was because they got forced out or because they heard what the boss man was saying and realized they didn't want to be implicated in the terrible shit to come.\",\n",
       " \"Wow. That leaves a huge void, many of these people have longstanding relationships with other foreign diplomats and offices. Those aren't things that can be replaced overnight.\\nThe Trump team is slowly drifting out to sea, becoming their own island. Gonna be hard to pass blame around when you're out there by yourself\\n\",\n",
       " \"'Assistant Secretary of State for Administration Joyce Anne Barr, Assistant Secretary of State for Consular Affairs Michele Bond and Ambassador Gentry O. Smith, director of the Office of Foreign Missions, followed him (undersecretary for management Patrick Kennedy) out the door. All are career foreign service officers who have served under both Republican and Democratic administrations'.\\n\\n- This is a big deal. \",\n",
       " \"&gt; “It’s the single biggest simultaneous departure of institutional memory that anyone can remember, and that’s incredibly difficult to replicate,” said David Wade, who served as State Department chief of staff under Secretary of State John Kerry. “Department expertise in security, management, administrative and consular positions in particular are very difficult to replicate and particularly difficult to find in the private sector.”\\n\\n\\nWell this is unpresidented... \\n\\nEdit 2: Since everyone keeps correcting my spelling, [context](http://www.snopes.com/wordpress/wp-content/uploads/2016/12/trump-unpresidented-tweet.jpg)\\n\\nEdit: since this comment is highly visible: CNN is now reporting that *these staffers were actually fired*, per the White House (so it's probably a lie - and I mean it's the White House that's lying, not CNN).  BUT [Reuters](http://mobile.reuters.com/article/politicsNews/idUSKBN15A2AY) has a quote from an unnamed State Dept. staffer that says this is entirely normal. - thanks for the link, /u/eduardojfp\",\n",
       " '&gt; “You don’t run foreign policy by making statements, you run it with thousands of people working to implement programs every day,” Boucher said. “To undercut that is to undercut the institution.”\\n\\nSomething trump is just too dumb to realize.',\n",
       " \"Its not like I can really fault them for resigning, but doesn't this now leave the State Dept with a ton of top-level openings that will now be filled with Trump flunkies who have no fucking clue what they're doing?  Not sure how to feel about this.\",\n",
       " 'This is the equivalent of an air horn siren suddenly going off over all of D.C.',\n",
       " \"No big deal, I'm sure there are plenty of people just hanging around with extensive knowledge of foreign countries, their leaders, their concerns and wants and how best to approach and deal with each of them.\\n\\n&amp;nbsp;\\n\\nReminds me of trump's worthless call with Pakistan where he clearly had no idea what to say so he spit out a world salad\\n\\n\",\n",
       " 'I get why some people would cheer this, but this is really bad news. America is already in a more precarious international position under Trump, and we desperately need good, smart people in these departments to mitigate that damage.\\n\\nLosing the entire senior level of management officials means that the department is going to be significantly handicapped in the short term, and it will be difficult to fill those positions with equally qualified people in the long term.',\n",
       " \"While I like watching the trainwreck, I'm concerned with which monsters will replace these people.\",\n",
       " \"Wow.  This is huge.  Ain't gonna look good on the news, President Bigly.\\n\\nCan't wait to see Sean Spicer try and spin this one.\",\n",
       " \"Trumpers: Fuck those guys! We don't need 'em! We were totally already going to replace them with better, smarter people anyways! \",\n",
       " 'CNN is saying Trump *fired* them. Which is it? ',\n",
       " \"Trainwreck Trump is going to go down as the worst president we've ever had. His name will forever be linked to disaster and calamity. \",\n",
       " 'WHAT THE FUCK IS HAPPENING?! Someone please save us',\n",
       " 'Trump supporters will call this \"cleaning house\" or \"draining the swamp\".',\n",
       " 'We are watching the collapse of the world as we knew it.\\n\\nAs an American who loves America , a legal immigrant who waited 14 years to cast my first vote, I am in tears. Trump will destroy America.',\n",
       " \"See, here is what people really don't get.\\n\\nMany of the people who work in government?  They do it out of a legitimate desire to make the country a better place.  Scoff all you want, but it is true.  Somebody with their skills could make *much* more money in the private sector than working for the government.\\n\\nSo, with a traitor at the helm, these patriots have no reason to remain there anymore.  They are going to be prevented from actually doing any good, so they have no reason to stay.\\n\\nGood job, Don the Con, you are ahead of schedule to completely destroy our government.\",\n",
       " 'This is gonna be a long ass 4 years.',\n",
       " 'Dammit, I just sent in my passport renewal. I better get itback before Trump starts a civil war.',\n",
       " \"That's four spots to fill.  I betting on: Busey, Meat Loaf, John Rich, and Bababooey.\",\n",
       " '&gt;Whether Kennedy left on his own volition or was pushed out by the incoming Trump team is a matter of dispute inside the department.',\n",
       " 'I can\\'t believe half the country was dumb enough to appoint a reality TV star with meme policies to the most powerful position in the world. He\\'s an amateur and he is driving away qualified people. \\n\\nAnd fuck anyone who says \"This is why Trump won! Be nice to the people who voted for Trump!\" Fuck that. You all should be fucking ashamed of yourselves. You don\\'t deserve respect.  \\n\\nEdit: yes, I am aware only half of *people who voted* voted for Trump. Everyone who didn\\'t vote is responsible as well. Fuck all of you lazy pieces of shit too. Fuck the people who thought they were too pure and you \"couldn\\'t go to sleep at night\" if you voted for Clinton. I hope you can rest easy now.',\n",
       " \"It wasn't voluntary. Michele Bond was forced to resign after 40 years at State. The entire department is a shitshow right now. Replacing 40-year veterans with people who have never even taken, let alone passed, the FSOT will be a diplomatic abortion. \"]"
      ]
     },
     "execution_count": 809,
     "metadata": {},
     "output_type": "execute_result"
    }
   ],
   "source": [
    "result"
   ]
  },
  {
   "cell_type": "code",
   "execution_count": null,
   "metadata": {
    "collapsed": true
   },
   "outputs": [],
   "source": []
  }
 ],
 "metadata": {
  "anaconda-cloud": {},
  "kernelspec": {
   "display_name": "Python [default]",
   "language": "python",
   "name": "python3"
  },
  "language_info": {
   "codemirror_mode": {
    "name": "ipython",
    "version": 3
   },
   "file_extension": ".py",
   "mimetype": "text/x-python",
   "name": "python",
   "nbconvert_exporter": "python",
   "pygments_lexer": "ipython3",
   "version": "3.5.2"
  }
 },
 "nbformat": 4,
 "nbformat_minor": 1
}
